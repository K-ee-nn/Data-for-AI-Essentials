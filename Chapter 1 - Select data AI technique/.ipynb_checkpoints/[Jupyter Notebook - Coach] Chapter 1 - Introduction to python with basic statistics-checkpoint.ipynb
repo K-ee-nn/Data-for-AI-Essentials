{
 "cells": [
  {
   "cell_type": "markdown",
   "metadata": {},
   "source": [
    "# Introduction to Python"
   ]
  },
  {
   "cell_type": "markdown",
   "metadata": {},
   "source": [
    "This notebook contains some programming exercises which will equip you with the programming skills that you require for the workshops ahead. Do not be afraid to make mistakes. Making mistakes while coding is perfectly normal. It is more important for you to learn how to rectify those mistakes. If you are stuck in any of the exercises, you can try to search for similar solutions online and also ask your friends or the facilitator for help."
   ]
  },
  {
   "cell_type": "markdown",
   "metadata": {},
   "source": [
    "Lists are like variables that let you store more than one value.\n",
    "\n",
    "Before we start coding, here are some important properties about lists:\n",
    "1. Lists are wrapped in square brackets []\n",
    "2. Lists can contain strings, integers, floats, Booleans or any combination of these.\n",
    "3. Items in a list are separated by commas ,\n",
    "\n",
    "With the 3 properties in mind, let's start coding!\n",
    "Look at the code below and try running it."
   ]
  },
  {
   "cell_type": "code",
   "execution_count": 44,
   "metadata": {},
   "outputs": [
    {
     "name": "stdout",
     "output_type": "stream",
     "text": [
      "Empty List:  []\n"
     ]
    }
   ],
   "source": [
    "# Create a empty list \n",
    "sampleList = []\n",
    "print (\"Empty List: \", sampleList)"
   ]
  },
  {
   "cell_type": "code",
   "execution_count": 45,
   "metadata": {},
   "outputs": [
    {
     "name": "stdout",
     "output_type": "stream",
     "text": [
      "Bob should appear in the list: ['Bob']\n"
     ]
    }
   ],
   "source": [
    "#.append() is a function that allows you to add values to a list\n",
    "sampleList.append(\"Bob\")\n",
    "print (\"Bob should appear in the list:\", sampleList)"
   ]
  },
  {
   "cell_type": "code",
   "execution_count": 46,
   "metadata": {},
   "outputs": [
    {
     "name": "stdout",
     "output_type": "stream",
     "text": [
      "List can contains different data types and items in a list are separated by commas:  ['Bob', False, 9, 10.5]\n"
     ]
    }
   ],
   "source": [
    "# List can contain strings, integers, floats, boolean or any combination of it\n",
    "sampleList.append(False)\n",
    "sampleList.append(9)\n",
    "sampleList.append(10.5)\n",
    "print (\"List can contains different data types and items in a list are separated by commas: \", sampleList)"
   ]
  },
  {
   "cell_type": "markdown",
   "metadata": {},
   "source": [
    "Here's a practice question!\n",
    "1. Assign the following numbers to a list, X1 in the cell below. The numbers are 4, 1, 5, 7.\n",
    "2. Now, change the 3rd number from 5 to 10. Print X1 to confirm that you have changed the number.\n",
    "3. Add a value of 2 to all the items in the list in the cell below. Print X1 again to confirm the addition."
   ]
  },
  {
   "cell_type": "code",
   "execution_count": 47,
   "metadata": {},
   "outputs": [
    {
     "name": "stdout",
     "output_type": "stream",
     "text": [
      "[4, 1, 5, 7]\n",
      "[4, 1, 10, 7]\n",
      "[6, 3, 12, 9]\n"
     ]
    }
   ],
   "source": [
    "# TODO: Assign numbers (4,1,5,7) to a list, X1.\n",
    "X1 = [4, 1, 5, 7]\n",
    "print(X1)\n",
    "\n",
    "# TODO: Change the 3rd number, 5, to 10. \n",
    "X1[2] = 10\n",
    "print(X1)\n",
    "\n",
    "# TODO: Add a value of 2 to all the items in the list. (HINT: Use a for loop!)\n",
    "for i in range (0, 4):\n",
    "    X1[i] = X1[i] + 2\n",
    "print(X1)"
   ]
  },
  {
   "cell_type": "markdown",
   "metadata": {},
   "source": [
    "Expected results:\n",
    "1. [4, 1, 5, 7]\n",
    "2. [4, 1, 10, 7]\n",
    "3. [6, 3, 12, 9]"
   ]
  },
  {
   "cell_type": "markdown",
   "metadata": {},
   "source": [
    "Let's try apply basic statistics we've just learnt into python.\n",
    "Here are your challenge questions!\n",
    "1. Find the mean of the data provided.\n",
    "2. Find the median of the data provided.\n",
    "3. Find the mode of the data provided.\n",
    "\n",
    "Raise your hands once you've completed exercise, the instructor will come around to look at the code!\n",
    "Once you are done, feel free to help your peers around you to conquer the challenge, but do not give them the answers!"
   ]
  },
  {
   "cell_type": "code",
   "execution_count": 48,
   "metadata": {},
   "outputs": [
    {
     "name": "stdout",
     "output_type": "stream",
     "text": [
      "14\n",
      "93\n",
      "6.642857142857143\n"
     ]
    }
   ],
   "source": [
    "# Here's the dataset for the challenge questions:\n",
    "dataset = [2, 1, 1, 4, 5, 8, 12, 4, 3, 8, 21, 1, 18, 5]\n",
    "\n",
    "# TODO: Find the mean of the data provided.\n",
    "# Step 1: Find out the number of items in the list.\n",
    "number_of_items = len(dataset)\n",
    "print(number_of_items)\n",
    "\n",
    "# Step 2: Find out the sum of items in list.\n",
    "sum_of_items = 0\n",
    "for i in range (0,number_of_items):\n",
    "    sum_of_items += dataset[i]\n",
    "print(sum_of_items)\n",
    "\n",
    "# Step 3: Find the mean\n",
    "mean = sum_of_items / number_of_items\n",
    "print(mean)"
   ]
  },
  {
   "cell_type": "code",
   "execution_count": 49,
   "metadata": {},
   "outputs": [
    {
     "name": "stdout",
     "output_type": "stream",
     "text": [
      "[1, 1, 1, 2, 3, 4, 4, 5, 5, 8, 8, 12, 18, 21]\n",
      "7\n",
      "4\n"
     ]
    }
   ],
   "source": [
    "# TODO: Find the median of the data provided. (HINT: Rearrange the items in the list)\n",
    "# Step 1: Rearrange the items in the list in ascending order, i.e. (1,1,1,2,3,4,4,5,5,8,8,12,18,21)\n",
    "dataset.sort()\n",
    "print(dataset)\n",
    "\n",
    "# Step 2: Find the middle index\n",
    "middle_index = int (number_of_items / 2)\n",
    "print (middle_index)\n",
    "\n",
    "# Step 3: Find median\n",
    "# why minus 1? remember that a list index start from zero.\n",
    "median = dataset[middle_index-1]\n",
    "print (median)"
   ]
  },
  {
   "cell_type": "code",
   "execution_count": 50,
   "metadata": {},
   "outputs": [
    {
     "name": "stdout",
     "output_type": "stream",
     "text": [
      "1\n"
     ]
    }
   ],
   "source": [
    "# TODO: Find the mode of the data provided. (HINT: Look at the python library for max(); Search online \"python max mode\")\n",
    "mode = max(dataset, key = dataset.count)\n",
    "print (mode)  "
   ]
  },
  {
   "cell_type": "code",
   "execution_count": null,
   "metadata": {},
   "outputs": [],
   "source": []
  }
 ],
 "metadata": {
  "kernelspec": {
   "display_name": "Python 3",
   "language": "python",
   "name": "python3"
  },
  "language_info": {
   "codemirror_mode": {
    "name": "ipython",
    "version": 3
   },
   "file_extension": ".py",
   "mimetype": "text/x-python",
   "name": "python",
   "nbconvert_exporter": "python",
   "pygments_lexer": "ipython3",
   "version": "3.7.11"
  }
 },
 "nbformat": 4,
 "nbformat_minor": 2
}
