{
 "cells": [
  {
   "cell_type": "markdown",
   "metadata": {},
   "source": [
    "## Sequential coding game"
   ]
  },
  {
   "cell_type": "markdown",
   "metadata": {},
   "source": [
    "Your task: "
   ]
  },
  {
   "cell_type": "code",
   "execution_count": 1,
   "metadata": {},
   "outputs": [],
   "source": [
    "import urllib.request\n",
    "import pandas as pd"
   ]
  },
  {
   "cell_type": "markdown",
   "metadata": {},
   "source": [
    "Download data from this [link](https://archive.ics.uci.edu/ml/machine-learning-databases/tae/) and store it at < your directory > /data!"
   ]
  },
  {
   "cell_type": "code",
   "execution_count": 3,
   "metadata": {},
   "outputs": [
    {
     "data": {
      "text/plain": [
       "('./tae.data', <http.client.HTTPMessage at 0x29a5e28feb8>)"
      ]
     },
     "execution_count": 3,
     "metadata": {},
     "output_type": "execute_result"
    }
   ],
   "source": [
    "urllib.request.urlretrieve(\"https://archive.ics.uci.edu/ml/machine-learning-databases/tae/tae.data\", \"./tae.data\")"
   ]
  },
  {
   "cell_type": "markdown",
   "metadata": {},
   "source": [
    " Read it into a dataframe using Pandas and assign it to a variable called tae"
   ]
  },
  {
   "cell_type": "code",
   "execution_count": 5,
   "metadata": {},
   "outputs": [],
   "source": [
    "tae = pd.read_csv(\"./tae.data\", header=None)"
   ]
  },
  {
   "cell_type": "markdown",
   "metadata": {},
   "source": [
    "Include the headers for the dataframe"
   ]
  },
  {
   "cell_type": "code",
   "execution_count": 6,
   "metadata": {},
   "outputs": [],
   "source": [
    "names = [\"Native_English_Speaker\", \"Course_Instructor\",\"Course\",\"Semester\" ,\"Class_Size\" ,\"Class_Attribute\"]"
   ]
  },
  {
   "cell_type": "code",
   "execution_count": 7,
   "metadata": {},
   "outputs": [],
   "source": [
    "df.columns = names"
   ]
  },
  {
   "cell_type": "markdown",
   "metadata": {},
   "source": [
    "Print the top 5 rows of the dataframe."
   ]
  },
  {
   "cell_type": "code",
   "execution_count": 8,
   "metadata": {},
   "outputs": [
    {
     "name": "stdout",
     "output_type": "stream",
     "text": [
      "   Native_English_Speaker  Course_Instructor  Course  Semester  Class_Size  \\\n",
      "0                       1                 23       3         1          19   \n",
      "1                       2                 15       3         1          17   \n",
      "2                       1                 23       3         2          49   \n",
      "3                       1                  5       2         2          33   \n",
      "4                       2                  7      11         2          55   \n",
      "\n",
      "   Class_Attribute  \n",
      "0                3  \n",
      "1                3  \n",
      "2                3  \n",
      "3                3  \n",
      "4                3  \n"
     ]
    }
   ],
   "source": [
    "print(df.head())"
   ]
  },
  {
   "cell_type": "markdown",
   "metadata": {},
   "source": [
    "Note the different variables. List them down in the box below and note down if they are categorical or numerical. "
   ]
  },
  {
   "cell_type": "code",
   "execution_count": 9,
   "metadata": {},
   "outputs": [
    {
     "ename": "SyntaxError",
     "evalue": "invalid syntax (<ipython-input-9-a949e2c47ea9>, line 1)",
     "output_type": "error",
     "traceback": [
      "\u001b[1;36m  File \u001b[1;32m\"<ipython-input-9-a949e2c47ea9>\"\u001b[1;36m, line \u001b[1;32m1\u001b[0m\n\u001b[1;33m    1. Whether of not the TA is a native English speaker (binary)\u001b[0m\n\u001b[1;37m             ^\u001b[0m\n\u001b[1;31mSyntaxError\u001b[0m\u001b[1;31m:\u001b[0m invalid syntax\n"
     ]
    }
   ],
   "source": [
    "   1. Whether of not the TA is a native English speaker (categorical)\n",
    "      1=English speaker, 2=non-English speaker\n",
    "   2. Course instructor (categorical, 25 categories)\n",
    "   3. Course (categorical, 26 categories)\n",
    "   4. Summer or regular semester (categorical) 1=Summer, 2=Regular\n",
    "   5. Class size (numerical)\n",
    "   6. Class attribute (categorical) 1=Low, 2=Medium, 3=High"
   ]
  },
  {
   "cell_type": "markdown",
   "metadata": {},
   "source": [
    "Obtain basic information (Number of rows and columns, type of data, number of missing values and basic statistics) about the dataset."
   ]
  },
  {
   "cell_type": "code",
   "execution_count": 10,
   "metadata": {},
   "outputs": [
    {
     "name": "stdout",
     "output_type": "stream",
     "text": [
      "<class 'pandas.core.frame.DataFrame'>\n",
      "RangeIndex: 151 entries, 0 to 150\n",
      "Data columns (total 6 columns):\n",
      "Native_English_Speaker    151 non-null int64\n",
      "Course_Instructor         151 non-null int64\n",
      "Course                    151 non-null int64\n",
      "Semester                  151 non-null int64\n",
      "Class_Size                151 non-null int64\n",
      "Class_Attribute           151 non-null int64\n",
      "dtypes: int64(6)\n",
      "memory usage: 7.2 KB\n",
      "None\n"
     ]
    }
   ],
   "source": [
    "print(df.info())"
   ]
  },
  {
   "cell_type": "code",
   "execution_count": 11,
   "metadata": {},
   "outputs": [
    {
     "name": "stdout",
     "output_type": "stream",
     "text": [
      "       Native_English_Speaker  Course_Instructor      Course    Semester  \\\n",
      "count              151.000000         151.000000  151.000000  151.000000   \n",
      "mean                 1.807947          13.642384    8.105960    1.847682   \n",
      "std                  0.395225           6.825779    7.023914    0.360525   \n",
      "min                  1.000000           1.000000    1.000000    1.000000   \n",
      "25%                  2.000000           8.000000    3.000000    2.000000   \n",
      "50%                  2.000000          13.000000    4.000000    2.000000   \n",
      "75%                  2.000000          20.000000   15.000000    2.000000   \n",
      "max                  2.000000          25.000000   26.000000    2.000000   \n",
      "\n",
      "       Class_Size  Class_Attribute  \n",
      "count  151.000000       151.000000  \n",
      "mean    27.867550         2.019868  \n",
      "std     12.893758         0.820327  \n",
      "min      3.000000         1.000000  \n",
      "25%     19.000000         1.000000  \n",
      "50%     27.000000         2.000000  \n",
      "75%     37.000000         3.000000  \n",
      "max     66.000000         3.000000  \n"
     ]
    }
   ],
   "source": [
    "print(df.describe())"
   ]
  },
  {
   "cell_type": "markdown",
   "metadata": {},
   "source": [
    "Good luck!!!"
   ]
  },
  {
   "cell_type": "code",
   "execution_count": null,
   "metadata": {},
   "outputs": [],
   "source": []
  }
 ],
 "metadata": {
  "kernelspec": {
   "display_name": "Python 3",
   "language": "python",
   "name": "python3"
  },
  "language_info": {
   "codemirror_mode": {
    "name": "ipython",
    "version": 3
   },
   "file_extension": ".py",
   "mimetype": "text/x-python",
   "name": "python",
   "nbconvert_exporter": "python",
   "pygments_lexer": "ipython3",
   "version": "3.6.7"
  }
 },
 "nbformat": 4,
 "nbformat_minor": 2
}
